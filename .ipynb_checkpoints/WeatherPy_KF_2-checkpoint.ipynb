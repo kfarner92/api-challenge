{
 "cells": [
  {
   "cell_type": "code",
   "execution_count": 63,
   "metadata": {},
   "outputs": [],
   "source": [
    "#import dependencies\n",
    "import csv\n",
    "import numpy as np\n",
    "import pandas as pd\n",
    "import requests\n",
    "import seaborn as sns\n",
    "import matplotlib.pyplot as plt\n",
    "from config import api_key\n",
    "from citipy import citipy\n",
    "import random\n",
    "import json\n",
    "from pprint import pprint\n",
    "import time\n"
   ]
  },
  {
   "cell_type": "code",
   "execution_count": 34,
   "metadata": {},
   "outputs": [],
   "source": [
    "#import all the possible cities in the open weather current weasther api\n",
    "current_open_cities =open('city.list.json').read()\n",
    "possible_cities = json.loads(current_open_cities)\n",
    "#pprint(possible_cities)\n",
    "city_list_max = len(possible_cities)\n",
    "city_list_max\n",
    "num_min = 0"
   ]
  },
  {
   "cell_type": "code",
   "execution_count": 54,
   "metadata": {},
   "outputs": [],
   "source": [
    "#take the number of possible cities and shuffle them to get an unduplicated list of random numbers\n",
    "num_list = list(range(num_min,city_list_max,1))\n",
    "random.shuffle(num_list)"
   ]
  },
  {
   "cell_type": "code",
   "execution_count": 55,
   "metadata": {},
   "outputs": [
    {
     "data": {
      "text/plain": [
       "200"
      ]
     },
     "execution_count": 55,
     "metadata": {},
     "output_type": "execute_result"
    }
   ],
   "source": [
    "#get the city id's for the 200 randomly selected numbers\n",
    "city_id_list = []\n",
    "i = 0\n",
    "for i in range(200):\n",
    "    city_id_list.append(possible_cities[num_list[i]][\"id\"])\n",
    "#len(city_id_list)"
   ]
  },
  {
   "cell_type": "code",
   "execution_count": 64,
   "metadata": {},
   "outputs": [],
   "source": [
    "api_url = 'http://api.openweathermap.org/data/2.5/weather?id='\n",
    "units = 'imperial'\n",
    "urlend = '&appid={}&units={}'.format( api_key, units)"
   ]
  },
  {
   "cell_type": "code",
   "execution_count": 74,
   "metadata": {},
   "outputs": [
    {
     "name": "stdout",
     "output_type": "stream",
     "text": [
      "Finished Running\n"
     ]
    }
   ],
   "source": [
    "#lists to hold individual data points for each city\n",
    "city_id = []\n",
    "city_name = []\n",
    "city_country = []\n",
    "city_lat = []\n",
    "city_lon = []\n",
    "city_temp = []\n",
    "city_humid = []\n",
    "city_cloudiness = []\n",
    "city_wind = []\n",
    "i = 0\n",
    "#for-loop to meet the api call limit of 60 calls per minute. This should take about 4 minutes to run\n",
    "for x in range(4):\n",
    "    \n",
    "    for i in range(50):\n",
    "        response = requests.get(api_url + str(city_id_list[i])+ urlend).json()\n",
    "        #print(json.dumps(response, indent=1, sort_keys=False))\n",
    "        city_id.append(response['id'])\n",
    "        city_name.append(response['name'])\n",
    "        city_country.append(response['sys']['country'])\n",
    "        city_lat.append(response['coord']['lat'])\n",
    "        city_lon.append(response['coord']['lon'])\n",
    "        city_temp.append(response['main']['temp_max'])\n",
    "        city_humid.append(response['main']['humidity'])\n",
    "        city_cloudiness.append(response['clouds']['all'])\n",
    "        city_wind.append(response['wind']['speed'])\n",
    "        i = i+50\n",
    "    time.sleep(61)\n",
    "print('Finished Running')"
   ]
  },
  {
   "cell_type": "code",
   "execution_count": 85,
   "metadata": {},
   "outputs": [
    {
     "data": {
      "text/html": [
       "<div>\n",
       "<style scoped>\n",
       "    .dataframe tbody tr th:only-of-type {\n",
       "        vertical-align: middle;\n",
       "    }\n",
       "\n",
       "    .dataframe tbody tr th {\n",
       "        vertical-align: top;\n",
       "    }\n",
       "\n",
       "    .dataframe thead th {\n",
       "        text-align: right;\n",
       "    }\n",
       "</style>\n",
       "<table border=\"1\" class=\"dataframe\">\n",
       "  <thead>\n",
       "    <tr style=\"text-align: right;\">\n",
       "      <th></th>\n",
       "      <th>API_City_ID</th>\n",
       "      <th>City</th>\n",
       "      <th>Country_Code</th>\n",
       "      <th>Latitude</th>\n",
       "      <th>Longitude</th>\n",
       "      <th>Max Tempurature (F)</th>\n",
       "      <th>Humidity</th>\n",
       "      <th>Cloudiness_%</th>\n",
       "      <th>Wind_(mph)</th>\n",
       "    </tr>\n",
       "  </thead>\n",
       "  <tbody>\n",
       "    <tr>\n",
       "      <th>0</th>\n",
       "      <td>3202698</td>\n",
       "      <td>Cernik</td>\n",
       "      <td>HR</td>\n",
       "      <td>45.29</td>\n",
       "      <td>17.38</td>\n",
       "      <td>66.20</td>\n",
       "      <td>88</td>\n",
       "      <td>0</td>\n",
       "      <td>2.24</td>\n",
       "    </tr>\n",
       "    <tr>\n",
       "      <th>1</th>\n",
       "      <td>3125006</td>\n",
       "      <td>Ciperez</td>\n",
       "      <td>ES</td>\n",
       "      <td>40.96</td>\n",
       "      <td>-6.27</td>\n",
       "      <td>53.60</td>\n",
       "      <td>81</td>\n",
       "      <td>0</td>\n",
       "      <td>3.36</td>\n",
       "    </tr>\n",
       "    <tr>\n",
       "      <th>2</th>\n",
       "      <td>7873505</td>\n",
       "      <td>Sankt Gallen</td>\n",
       "      <td>AT</td>\n",
       "      <td>47.66</td>\n",
       "      <td>14.61</td>\n",
       "      <td>59.00</td>\n",
       "      <td>87</td>\n",
       "      <td>20</td>\n",
       "      <td>2.24</td>\n",
       "    </tr>\n",
       "    <tr>\n",
       "      <th>3</th>\n",
       "      <td>8011791</td>\n",
       "      <td>Antuzede</td>\n",
       "      <td>PT</td>\n",
       "      <td>40.25</td>\n",
       "      <td>-8.48</td>\n",
       "      <td>66.20</td>\n",
       "      <td>88</td>\n",
       "      <td>90</td>\n",
       "      <td>9.17</td>\n",
       "    </tr>\n",
       "    <tr>\n",
       "      <th>4</th>\n",
       "      <td>6551108</td>\n",
       "      <td>Heiligengrabe</td>\n",
       "      <td>DE</td>\n",
       "      <td>53.15</td>\n",
       "      <td>12.35</td>\n",
       "      <td>64.77</td>\n",
       "      <td>85</td>\n",
       "      <td>0</td>\n",
       "      <td>2.59</td>\n",
       "    </tr>\n",
       "  </tbody>\n",
       "</table>\n",
       "</div>"
      ],
      "text/plain": [
       "   API_City_ID           City Country_Code  Latitude  Longitude  \\\n",
       "0      3202698         Cernik           HR     45.29      17.38   \n",
       "1      3125006        Ciperez           ES     40.96      -6.27   \n",
       "2      7873505   Sankt Gallen           AT     47.66      14.61   \n",
       "3      8011791       Antuzede           PT     40.25      -8.48   \n",
       "4      6551108  Heiligengrabe           DE     53.15      12.35   \n",
       "\n",
       "   Max Tempurature (F)  Humidity  Cloudiness_%  Wind_(mph)  \n",
       "0                66.20        88             0        2.24  \n",
       "1                53.60        81             0        3.36  \n",
       "2                59.00        87            20        2.24  \n",
       "3                66.20        88            90        9.17  \n",
       "4                64.77        85             0        2.59  "
      ]
     },
     "execution_count": 85,
     "metadata": {},
     "output_type": "execute_result"
    }
   ],
   "source": [
    "#create dictionary to display and use the city data pulled above\n",
    "city_dict = {\n",
    "    'API_City_ID': city_id,\n",
    "    'City':city_name,\n",
    "    'Country_Code': city_country,\n",
    "    'Latitude':city_lat,\n",
    "    'Longitude':city_lon,\n",
    "    'Max Tempurature (F)':city_temp,\n",
    "    'Humidity':city_humid,\n",
    "    'Cloudiness_%':city_cloudiness,\n",
    "    'Wind_(mph)':city_wind \n",
    "}\n",
    "city_data = pd.DataFrame(city_dict)\n",
    "city_data.head()"
   ]
  },
  {
   "cell_type": "code",
   "execution_count": 90,
   "metadata": {},
   "outputs": [
    {
     "data": {
      "image/png": "[encoded data removed]",
      "text/plain": [
       "<Figure size 432x288 with 1 Axes>"
      ]
     },
     "metadata": {},
     "output_type": "display_data"
    }
   ],
   "source": [
    "# Build 1st scatter plot\n",
    "plt.figure(1)\n",
    "plt.scatter(city_data[\"Latitude\"], city_data[\"Max Tempurature (F)\"], marker=\"o\")\n",
    "plt.title(\"City Latitude vs. Max Tempurature\")\n",
    "plt.ylabel(\"Max Temperature (F)\")\n",
    "plt.xlabel(\"Latitude\")\n",
    "plt.grid(True)\n",
    "plt.xlim(-90,90,10)\n",
    "plt.ylim(0,110,10)\n",
    "# Save the figure\n",
    "plt.savefig(\"Temperature(F)_vs_Latitude.png\")\n",
    "\n",
    "plt.show()"
   ]
  },
  {
   "cell_type": "code",
   "execution_count": null,
   "metadata": {},
   "outputs": [],
   "source": []
  }
 ],
 "metadata": {
  "kernelspec": {
   "display_name": "Python 3",
   "language": "python",
   "name": "python3"
  },
  "language_info": {
   "codemirror_mode": {
    "name": "ipython",
    "version": 3
   },
   "file_extension": ".py",
   "mimetype": "text/x-python",
   "name": "python",
   "nbconvert_exporter": "python",
   "pygments_lexer": "ipython3",
   "version": "3.6.5"
  }
 },
 "nbformat": 4,
 "nbformat_minor": 2
}
